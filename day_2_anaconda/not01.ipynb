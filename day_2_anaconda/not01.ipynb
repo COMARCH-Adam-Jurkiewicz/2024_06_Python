{
 "cells": [
  {
   "cell_type": "code",
   "execution_count": 1,
   "id": "8860e149-addd-4888-87e9-09c868f7f117",
   "metadata": {},
   "outputs": [
    {
     "name": "stdout",
     "output_type": "stream",
     "text": [
      "test\n",
      "test 2\n"
     ]
    }
   ],
   "source": [
    "print(\"test\")\n",
    "print(\"test 2\")"
   ]
  },
  {
   "cell_type": "code",
   "execution_count": 2,
   "id": "e061b182-0f98-4b36-b4f4-8853a55cdf70",
   "metadata": {},
   "outputs": [
    {
     "data": {
      "text/plain": [
       "4"
      ]
     },
     "execution_count": 2,
     "metadata": {},
     "output_type": "execute_result"
    }
   ],
   "source": [
    "from random import randint\n",
    "randint(a=3,b=19)"
   ]
  },
  {
   "cell_type": "code",
   "execution_count": 3,
   "id": "a94a0a03-eeb5-4165-b104-0c66450e708b",
   "metadata": {},
   "outputs": [
    {
     "data": {
      "text/plain": [
       "10"
      ]
     },
     "execution_count": 3,
     "metadata": {},
     "output_type": "execute_result"
    }
   ],
   "source": [
    "randint(9,15)"
   ]
  },
  {
   "cell_type": "code",
   "execution_count": null,
   "id": "94ca91cc-ad8c-46dc-900c-cbec265c20d0",
   "metadata": {},
   "outputs": [],
   "source": []
  }
 ],
 "metadata": {
  "kernelspec": {
   "display_name": "Python 3 (ipykernel)",
   "language": "python",
   "name": "python3"
  },
  "language_info": {
   "codemirror_mode": {
    "name": "ipython",
    "version": 3
   },
   "file_extension": ".py",
   "mimetype": "text/x-python",
   "name": "python",
   "nbconvert_exporter": "python",
   "pygments_lexer": "ipython3",
   "version": "3.11.2"
  }
 },
 "nbformat": 4,
 "nbformat_minor": 5
}
