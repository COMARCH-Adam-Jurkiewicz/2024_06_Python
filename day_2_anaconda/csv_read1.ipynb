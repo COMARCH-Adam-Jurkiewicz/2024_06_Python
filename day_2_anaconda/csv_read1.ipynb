{
 "cells": [
  {
   "cell_type": "code",
   "execution_count": 1,
   "id": "ebd2ac77-d8bf-4577-9cb5-bb01629f1906",
   "metadata": {},
   "outputs": [],
   "source": [
    "import csv\n",
    "plik = \"OMNI.csv\""
   ]
  },
  {
   "cell_type": "code",
   "execution_count": 7,
   "id": "feaa8450-88da-47bf-8c1c-d4fe1115e4a8",
   "metadata": {},
   "outputs": [
    {
     "name": "stdout",
     "output_type": "stream",
     "text": [
      "data_row=['P_SALESCHANNEL', 'ID_ZLEC_W_KANALE', 'P_ORDERNUMBERSAP', 'QUEUE', 'STATUSID', 'SALESOFFICE', 'SHIPPINGCONDITION', 'SALESCHANNEL', 'QTYRETURNED', 'DATA_GET_API_1', 'P_PICKUPSTATE', 'P_EXPIRATIONTIME_CART', 'POS_PICK_UP', 'ORDER_ACTIVITIPROCESSSTEP', 'P_STATUS_ORDER_OPIS', '']\n",
      "data_row=['POS', 'OMNI0679358527', '21553381', '6', 'Delivered', 'POSOwn', 'Pickup', '13', '0', '2024-06-20 00:09', 'PICKUP_READY_FOR_CUSTOMER', '2024-04-26 23:00:00', 'Telepunkt#TP167#Jaroslaw.Kotecki@orange.com#1740098Gdansk, TP167, ul. Rajska, 10', 'CompleteProcessingStatusesAction', 'UNKNOWN', '']\n",
      "data_row=['POS', 'OMNI0693948297', '21754475', '6', 'Delivered', 'POSAgent', 'Pickup', '13', '0', '2024-06-20 00:07', 'PICKUP_READY_FOR_CUSTOMER', '2024-05-27 23:00:00', 'POS#TC008#wladyslawowo@tele-car.pl#1874350Wladyslawowo, Towarowa 27 TC008', 'SendProxyNotificationAction', 'INPROGRESS', '']\n",
      "data_row=['POS', 'OMNI0697643876', '21812049', '6', 'Delivered', 'POSOwn', 'Pickup', '13', '0', '2024-06-20 00:07', 'PICKUP_READY_FOR_CUSTOMER', '2024-05-31 23:00:00', 'Salon Firmowy#SCHO1#Jacek.Wojno@orange.com#2299Chorzow, SCHO1, ul. Wolnosci, 29, Kamila Radziwanowska', 'CompleteProcessingStatusesAction', 'UNKNOWN', '']\n",
      "data_row=['POS', 'OMNI0697643876', '21812049', '6', 'Delivered', 'POSOwn', 'Pickup', '13', '0', '2024-06-20 00:07', 'PICKUP_READY_FOR_CUSTOMER', '2024-05-31 23:00:00', '', 'CompleteProcessingStatusesAction', 'UNKNOWN', '']\n",
      "data_row=['IDG', 'OMNI0701650778', '21874900', '6', 'Delivered', 'PickUpPortal', 'Pickup', '5', '0', '2024-06-20 00:05', 'PICKUP_READY_FOR_CUSTOMER', '2024-06-06 23:00:00', 'POS#TL144#sanok@tell.pl#1482Sanok, 3 Maja 1 TE180', 'SendProxyNotificationAction', 'INPROGRESS', '']\n",
      "data_row=['POS', 'OMNI0701762396', '21878163', '6', 'Delivered', 'POSAgent', 'Pickup', '13', '0', '2024-06-20 00:05', 'PICKUP_READY_FOR_CUSTOMER', '2024-06-07 23:00:00', 'POS#BE002#Mateusz.Mijas@orange.com#6844078Tomaszow Mazowiecki, Sw. Antoniego 32 BE002', 'CompleteProcessingStatusesAction', 'UNKNOWN', '']\n",
      "data_row=['WWW', 'OMNI0702550433', '21892045', '6', 'Delivered', 'PickUpPortal', 'Pickup', '5', '0', '2024-06-20 00:04', 'PICKUP_READY_FOR_CUSTOMER', '2024-06-10 23:00:00', 'Telepunkt#TP238#Poznan.Polwiejska@orange.com#9803555Poznan, TP238, Polwiejska, 42', 'SendProxyNotificationAction', 'INPROGRESS', '']\n",
      "data_row=['POS', 'OMNI0706281594', '21945761#21945763', '6#6', 'Canceled#Delivered', 'POSAgent#POSAgent', 'PersonalReceipt#Pickup', '5#13', '0#0', '2024-06-20 00:02', 'PICKUP_READY_FOR_CUSTOMER', '2024-06-17 23:00:00', 'POS#LI005#lukasz.brzezinski@orange.com#6845099Pultusk, Swietojanska 17B LI005', 'CompleteProcessingStatusesAction', 'UNKNOWN', '']\n",
      "data_row=['IDG', 'OMNI0709886829', '22003276', '6', 'Delivered', 'PickUpPortal', 'Pickup', '5', '0', '2024-06-19 23:54', 'PICKUP_READY_FOR_CUSTOMER', '2024-06-20 23:00:00', 'POS#TC004#gdynia.szperk@tele-car.pl#337723Gdynia, Cechowa 4 TC004', 'SendPickupReminderNotificationAction', 'INPROGRESS', '']\n",
      "data_row=['TLS', 'OMNI0709924606', '22003117', '6', 'Delivered', 'PickUpTelesalesOwn', 'Pickup', '5', '0', '2024-06-19 23:53', 'PICKUP_READY_FOR_CUSTOMER', '2024-06-20 23:00:00', 'Telepunkt#TP256#Piotr.Grzyb2@orange.com#9900152Bialystok, TP256, Legionowa, 9/1 lok. 28', 'SendPickupReminderNotificationAction', 'INPROGRESS', '']\n",
      "data_row=['TLS', 'OMNI0710039950', '22006279', '6', 'Delivered', 'PickUpTelesalesOwn', 'Pickup', '5', '0', '2024-06-19 23:54', 'PICKUP_READY_FOR_CUSTOMER', '2024-06-20 23:00:00', 'Telepunkt#TP114#Karolina.Milewska2@orange.com#421970Bydgoszcz, TP114, ul. Fordonska, 141', 'SendPickupReminderNotificationAction', 'INPROGRESS', '']\n",
      "data_row=['POS', 'OMNI0709479641', '21997367', '6', 'Delivered', 'POSAgent', 'Pickup', '13', '0', '2024-06-19 23:56', 'PICKUP_READY_FOR_CUSTOMER', '2024-06-21 23:00:00', 'POS#ST010#goleniow@s-tel.com.pl#7671949Goleniow, Dworcowa 9 ST005', 'SendPickupReminderNotificationAction', 'INPROGRESS', '']\n",
      "data_row=['TLS', 'OMNI0710023289', '22005554', '6', 'Delivered', 'PickUpTelesalesOwn', 'Pickup', '5', '0', '2024-06-19 23:53', 'PICKUP_READY_FOR_CUSTOMER', '2024-06-21 23:00:00', 'POS#TL041#Tomasz.Orkisz@tell.pl#1472Lublin, W. Chodzki 14 TE083', 'SendPickupReminderNotificationAction', 'INPROGRESS', '']\n",
      "data_row=['TLS', 'OMNI0710610437', '22015667', '6', 'Delivered', 'PickUpTelesalesOwn', 'Pickup', '5', '0', '2024-06-19 23:52', 'PICKUP_READY_FOR_CUSTOMER', '2024-06-21 23:00:00', 'POS#GT806#krakow.med@gti.pl#6845100Krakow, Medeweckiego 2 RA065', 'SendPickupReminderNotificationAction', 'INPROGRESS', '']\n",
      "data_row=['TLS', 'OMNI0710673050', '22017462', '6', 'Delivered', 'PickUpTelesalesOwn', 'Pickup', '5', '0', '2024-06-19 23:53', 'PICKUP_READY_FOR_CUSTOMER', '2024-06-21 23:00:00', 'POS#GT502#zawiercie.3ma@gti.pl#10082781Zawiercie, 3 Maja 15 GT502', 'SendPickupReminderNotificationAction', 'INPROGRESS', '']\n",
      "data_row=['POS', 'OMNI0710072711', '22007313', '6', 'Delivered', 'POSAgent', 'Pickup', '13', '0', '2024-06-19 23:54', 'PICKUP_READY_FOR_CUSTOMER', '2024-06-24 23:00:00', '', 'SendPickupReminderNotificationAction', 'INPROGRESS', '']\n",
      "data_row=['POS', 'OMNI0710072711', '22007313', '6', 'Delivered', 'POSAgent', 'Pickup', '13', '0', '2024-06-19 23:54', 'PICKUP_READY_FOR_CUSTOMER', '2024-06-24 23:00:00', 'POS#GT020#sosnowiec.sie@gti.pl#4267401Sosnowiec, Sienkiewicza 2 GT020', 'SendPickupReminderNotificationAction', 'INPROGRESS', '']\n",
      "data_row=['IDG', 'OMNI0710586436', '22015023', '6', 'Delivered', 'PickUpPortal', 'Pickup', '5', '0', '2024-06-19 23:52', 'PICKUP_READY_FOR_CUSTOMER', '2024-06-24 23:00:00', 'Telepunkt#TP251#Marzena.Wielgos@orange.com#9900146Szczecin, TP251, Al. Wyzwolenia, 43448', 'SendPickupReminderNotificationAction', 'INPROGRESS', '']\n",
      "data_row=['WWW', 'OMNI0711685576', '22028917', '6', 'Delivered', 'PickUpPortal', 'Pickup', '5', '0', '2024-06-19 23:48', 'PICKUP_READY_FOR_CUSTOMER', '2024-06-24 23:00:00', 'Telepunkt#TP081#Katarzyna.Smirnow@orange.com#2948Bytom, TP081, pl. Kosciuszki, 1', 'SendPickupReminderNotificationAction', 'INPROGRESS', '']\n",
      "data_row=['TLS', 'OMNI0712468292', '22044782', '6', 'Delivered', 'PickUpTelesalesOwn', 'Pickup', '5', '0', '2024-06-19 23:45', 'PICKUP_READY_FOR_CUSTOMER', '2024-06-25 23:00:00', 'POS#TL856#nowysacz.wegierska@tell.pl#1627Nowy Sacz, Lwowska 80 RA201', 'SendPickupReminderNotificationAction', 'INPROGRESS', '']\n",
      "data_row=[]\n"
     ]
    }
   ],
   "source": [
    "with open(plik, \"r\") as csv_file_descriptor:\n",
    "    csv_read_object = csv.reader(csv_file_descriptor,  delimiter=';')\n",
    "    for data_row in csv_read_object:\n",
    "        print(f\"{data_row=}\")"
   ]
  },
  {
   "cell_type": "code",
   "execution_count": null,
   "id": "cff2a19d-63c1-494b-af64-91623eae6472",
   "metadata": {},
   "outputs": [],
   "source": []
  }
 ],
 "metadata": {
  "kernelspec": {
   "display_name": "Python 3 (ipykernel)",
   "language": "python",
   "name": "python3"
  },
  "language_info": {
   "codemirror_mode": {
    "name": "ipython",
    "version": 3
   },
   "file_extension": ".py",
   "mimetype": "text/x-python",
   "name": "python",
   "nbconvert_exporter": "python",
   "pygments_lexer": "ipython3",
   "version": "3.11.2"
  }
 },
 "nbformat": 4,
 "nbformat_minor": 5
}
