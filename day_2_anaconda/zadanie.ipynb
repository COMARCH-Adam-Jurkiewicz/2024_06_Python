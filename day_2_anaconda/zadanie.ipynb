{
 "cells": [
  {
   "cell_type": "markdown",
   "id": "d08ebbdf-2271-4dfe-8a7e-976245e78c90",
   "metadata": {},
   "source": [
    "## Zadanie domowe\n",
    "---\n",
    "\n",
    "Otwórz plik z lokalizacji https://otwartedane.gdynia.pl/pl/dataset/c-6-3\n",
    "* Stwórz data_frame\n",
    "* dodaj kolumnę, która będzie zawierała średnią ilość obsługiwanych miesięcznie statków razem pl i obcych\n",
    "* zapisz w pliku statki.xlsx"
   ]
  },
  {
   "cell_type": "code",
   "execution_count": 1,
   "id": "90c32e34-fa46-4495-aafe-4706d1aed5a1",
   "metadata": {},
   "outputs": [],
   "source": [
    "import pandas as pd"
   ]
  },
  {
   "cell_type": "code",
   "execution_count": 2,
   "id": "a79c7f3a-531f-4e5f-b633-a194995992ea",
   "metadata": {},
   "outputs": [],
   "source": [
    "plik = \"https://otwartedane.gdynia.pl/pl/dataset/01c59ee3-ada4-458b-bd9a-6a73e24580e7/resource/75e513a2-595f-43ab-9e1e-ff4e02d20675/download/city_6_3_data.csv\"\n"
   ]
  },
  {
   "cell_type": "code",
   "execution_count": 3,
   "id": "3f0f520c-051a-499b-937f-caec0d2f4e00",
   "metadata": {},
   "outputs": [],
   "source": [
    "data_frame = pd.read_csv(plik)"
   ]
  },
  {
   "cell_type": "code",
   "execution_count": 4,
   "id": "c8ba226d-46e9-4a29-8ee2-b94b230d7062",
   "metadata": {},
   "outputs": [
    {
     "data": {
      "text/html": [
       "<div>\n",
       "<style scoped>\n",
       "    .dataframe tbody tr th:only-of-type {\n",
       "        vertical-align: middle;\n",
       "    }\n",
       "\n",
       "    .dataframe tbody tr th {\n",
       "        vertical-align: top;\n",
       "    }\n",
       "\n",
       "    .dataframe thead th {\n",
       "        text-align: right;\n",
       "    }\n",
       "</style>\n",
       "<table border=\"1\" class=\"dataframe\">\n",
       "  <thead>\n",
       "    <tr style=\"text-align: right;\">\n",
       "      <th></th>\n",
       "      <th>obce</th>\n",
       "      <th>polskie</th>\n",
       "      <th>razem</th>\n",
       "      <th>month</th>\n",
       "    </tr>\n",
       "  </thead>\n",
       "  <tbody>\n",
       "    <tr>\n",
       "      <th>0</th>\n",
       "      <td>240</td>\n",
       "      <td>8</td>\n",
       "      <td>248</td>\n",
       "      <td>2015-01</td>\n",
       "    </tr>\n",
       "    <tr>\n",
       "      <th>1</th>\n",
       "      <td>227</td>\n",
       "      <td>8</td>\n",
       "      <td>235</td>\n",
       "      <td>2015-02</td>\n",
       "    </tr>\n",
       "    <tr>\n",
       "      <th>2</th>\n",
       "      <td>253</td>\n",
       "      <td>9</td>\n",
       "      <td>262</td>\n",
       "      <td>2015-03</td>\n",
       "    </tr>\n",
       "    <tr>\n",
       "      <th>3</th>\n",
       "      <td>262</td>\n",
       "      <td>17</td>\n",
       "      <td>279</td>\n",
       "      <td>2015-04</td>\n",
       "    </tr>\n",
       "    <tr>\n",
       "      <th>4</th>\n",
       "      <td>276</td>\n",
       "      <td>14</td>\n",
       "      <td>290</td>\n",
       "      <td>2015-05</td>\n",
       "    </tr>\n",
       "    <tr>\n",
       "      <th>...</th>\n",
       "      <td>...</td>\n",
       "      <td>...</td>\n",
       "      <td>...</td>\n",
       "      <td>...</td>\n",
       "    </tr>\n",
       "    <tr>\n",
       "      <th>108</th>\n",
       "      <td>256</td>\n",
       "      <td>25</td>\n",
       "      <td>281</td>\n",
       "      <td>2024-01</td>\n",
       "    </tr>\n",
       "    <tr>\n",
       "      <th>109</th>\n",
       "      <td>272</td>\n",
       "      <td>23</td>\n",
       "      <td>295</td>\n",
       "      <td>2024-02</td>\n",
       "    </tr>\n",
       "    <tr>\n",
       "      <th>110</th>\n",
       "      <td>273</td>\n",
       "      <td>23</td>\n",
       "      <td>296</td>\n",
       "      <td>2024-03</td>\n",
       "    </tr>\n",
       "    <tr>\n",
       "      <th>111</th>\n",
       "      <td>275</td>\n",
       "      <td>31</td>\n",
       "      <td>306</td>\n",
       "      <td>2024-04</td>\n",
       "    </tr>\n",
       "    <tr>\n",
       "      <th>112</th>\n",
       "      <td>288</td>\n",
       "      <td>36</td>\n",
       "      <td>324</td>\n",
       "      <td>2024-05</td>\n",
       "    </tr>\n",
       "  </tbody>\n",
       "</table>\n",
       "<p>113 rows × 4 columns</p>\n",
       "</div>"
      ],
      "text/plain": [
       "     obce  polskie  razem    month\n",
       "0     240        8    248  2015-01\n",
       "1     227        8    235  2015-02\n",
       "2     253        9    262  2015-03\n",
       "3     262       17    279  2015-04\n",
       "4     276       14    290  2015-05\n",
       "..    ...      ...    ...      ...\n",
       "108   256       25    281  2024-01\n",
       "109   272       23    295  2024-02\n",
       "110   273       23    296  2024-03\n",
       "111   275       31    306  2024-04\n",
       "112   288       36    324  2024-05\n",
       "\n",
       "[113 rows x 4 columns]"
      ]
     },
     "execution_count": 4,
     "metadata": {},
     "output_type": "execute_result"
    }
   ],
   "source": [
    "data_frame"
   ]
  },
  {
   "cell_type": "code",
   "execution_count": 15,
   "id": "a6de0d94-047b-4e30-9de2-5216525e9a2b",
   "metadata": {},
   "outputs": [
    {
     "name": "stdout",
     "output_type": "stream",
     "text": [
      "2015 3285\n",
      "2016 3463\n",
      "2017 3613\n",
      "2018 4331\n",
      "2019 4037\n",
      "2020 3694\n",
      "2021 4243\n",
      "2022 4330\n",
      "2023 4135\n",
      "2024 1502\n"
     ]
    }
   ],
   "source": [
    "for year in range(2015,2025):\n",
    "    print(year, data_frame.loc[data_frame['month'].str.contains(str(year)) , 'razem'].sum())"
   ]
  },
  {
   "cell_type": "code",
   "execution_count": null,
   "id": "3a0cd0c1-f972-4990-8db0-17ce0f7f4989",
   "metadata": {},
   "outputs": [],
   "source": []
  }
 ],
 "metadata": {
  "kernelspec": {
   "display_name": "Python 3 (ipykernel)",
   "language": "python",
   "name": "python3"
  },
  "language_info": {
   "codemirror_mode": {
    "name": "ipython",
    "version": 3
   },
   "file_extension": ".py",
   "mimetype": "text/x-python",
   "name": "python",
   "nbconvert_exporter": "python",
   "pygments_lexer": "ipython3",
   "version": "3.11.2"
  }
 },
 "nbformat": 4,
 "nbformat_minor": 5
}
