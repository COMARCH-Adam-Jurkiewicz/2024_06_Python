{
 "cells": [
  {
   "cell_type": "markdown",
   "id": "d08ebbdf-2271-4dfe-8a7e-976245e78c90",
   "metadata": {},
   "source": [
    "## Zadanie domowe\n",
    "---\n",
    "\n",
    "Otwórz plik z lokalizacji https://otwartedane.gdynia.pl/pl/dataset/c-6-3\n",
    "* Stwórz data_frame\n",
    "* dodaj kolumnę, która będzie zawierała średnią ilość obsługiwanych miesięcznie statków razem pl i obcych\n",
    "* zapisz w pliku statki.xlsx"
   ]
  },
  {
   "cell_type": "code",
   "execution_count": null,
   "id": "90c32e34-fa46-4495-aafe-4706d1aed5a1",
   "metadata": {},
   "outputs": [],
   "source": []
  }
 ],
 "metadata": {
  "kernelspec": {
   "display_name": "Python 3 (ipykernel)",
   "language": "python",
   "name": "python3"
  },
  "language_info": {
   "codemirror_mode": {
    "name": "ipython",
    "version": 3
   },
   "file_extension": ".py",
   "mimetype": "text/x-python",
   "name": "python",
   "nbconvert_exporter": "python",
   "pygments_lexer": "ipython3",
   "version": "3.11.2"
  }
 },
 "nbformat": 4,
 "nbformat_minor": 5
}
